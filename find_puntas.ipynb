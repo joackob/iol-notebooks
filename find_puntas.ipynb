{
  "cells": [
    {
      "cell_type": "markdown",
      "metadata": {},
      "source": [
        "# Instalación de dependencias\n"
      ]
    },
    {
      "cell_type": "code",
      "execution_count": null,
      "metadata": {},
      "outputs": [],
      "source": [
        "!pipenv install git+https://github.com/joackob/iol-client.git#egg=iol_client"
      ]
    },
    {
      "attachments": {},
      "cell_type": "markdown",
      "metadata": {},
      "source": [
        "# Configuración de cuenta de usuario\n"
      ]
    },
    {
      "cell_type": "code",
      "execution_count": null,
      "metadata": {},
      "outputs": [],
      "source": [
        "import iol.src.api.client as client"
      ]
    },
    {
      "cell_type": "markdown",
      "metadata": {},
      "source": [
        "Se recomienda usar el archivo `.env` para colocar claves privadas, pero este espacio tambien puede ser usado como punto de entrada de datos privados. Tener la debida precaución.\n"
      ]
    },
    {
      "cell_type": "code",
      "execution_count": null,
      "metadata": {},
      "outputs": [],
      "source": [
        "user = os.getenv(\"IOL_USER\") or \"\"\n",
        "password = os.getenv(\"IOL_PASS\") or \"\""
      ]
    },
    {
      "cell_type": "code",
      "execution_count": null,
      "metadata": {},
      "outputs": [],
      "source": [
        "client_iol = client.IOLClient(username=user, password=password)"
      ]
    },
    {
      "cell_type": "markdown",
      "metadata": {},
      "source": [
        "# Historico anual de un determinado instrumento\n"
      ]
    },
    {
      "cell_type": "code",
      "execution_count": null,
      "metadata": {},
      "outputs": [],
      "source": [
        "from datetime import date\n",
        "from iol.src.api.constants import Ajustada, Mercado"
      ]
    },
    {
      "cell_type": "code",
      "execution_count": null,
      "metadata": {},
      "outputs": [],
      "source": [
        "hoy = date.today()\n",
        "hace_un_anio = hoy.replace(year=hoy.year - 1)\n",
        "historico = await client_iol.get_titulo_historicos(\n",
        "    simbolo=\"GGAL\",\n",
        "    mercado=Mercado.BCBA,\n",
        "    fecha_desde=hace_un_anio,\n",
        "    fecha_hasta=hoy,\n",
        "    ajustada=Ajustada.AJUSTADA,\n",
        ")"
      ]
    },
    {
      "cell_type": "code",
      "execution_count": null,
      "metadata": {},
      "outputs": [],
      "source": [
        "import pandas as pd\n",
        "\n",
        "df = pd.DataFrame(data=historico)\n",
        "df.head()"
      ]
    },
    {
      "cell_type": "markdown",
      "metadata": {},
      "source": [
        "## Guardando los datos\n"
      ]
    },
    {
      "cell_type": "markdown",
      "metadata": {},
      "source": [
        "Exportamos datos a un excel\n"
      ]
    },
    {
      "cell_type": "code",
      "execution_count": null,
      "metadata": {},
      "outputs": [],
      "source": [
        "# df.to_excel(\"historico.xlsx\")"
      ]
    },
    {
      "cell_type": "markdown",
      "metadata": {},
      "source": [
        "Leer datos desde excel\n"
      ]
    },
    {
      "cell_type": "code",
      "execution_count": null,
      "metadata": {},
      "outputs": [],
      "source": [
        "# df = pd.read_excel(\"historico.xlsx\")"
      ]
    },
    {
      "cell_type": "markdown",
      "metadata": {},
      "source": [
        "## Analisis y visualización\n"
      ]
    },
    {
      "cell_type": "markdown",
      "metadata": {},
      "source": [
        "Primera vista de los datos\n"
      ]
    },
    {
      "cell_type": "code",
      "execution_count": null,
      "metadata": {},
      "outputs": [],
      "source": [
        "df.head()"
      ]
    },
    {
      "cell_type": "markdown",
      "metadata": {},
      "source": [
        "Cantidad de registros encontrados\n"
      ]
    },
    {
      "cell_type": "code",
      "execution_count": null,
      "metadata": {},
      "outputs": [],
      "source": [
        "df.shape"
      ]
    },
    {
      "cell_type": "markdown",
      "metadata": {},
      "source": [
        "Graficando variables en función del tiempo\n"
      ]
    },
    {
      "cell_type": "code",
      "execution_count": null,
      "metadata": {},
      "outputs": [],
      "source": [
        "df.set_index(\"fechaHora\", inplace=True)\n",
        "df.head()"
      ]
    },
    {
      "cell_type": "code",
      "execution_count": null,
      "metadata": {},
      "outputs": [],
      "source": [
        "df.sort_index(inplace=True)"
      ]
    },
    {
      "cell_type": "code",
      "execution_count": null,
      "metadata": {},
      "outputs": [],
      "source": [
        "fig = df.plot.line(y=\"ultimoPrecio\", rot=0, figsize=(20, 10), grid=True)\n",
        "fig.set_xlabel(\"Fecha\")\n",
        "fig.set_ylabel(\"Precio(pesos argentinos)\")"
      ]
    },
    {
      "cell_type": "markdown",
      "metadata": {},
      "source": [
        "# Intrumentos\n"
      ]
    },
    {
      "cell_type": "code",
      "execution_count": null,
      "metadata": {},
      "outputs": [],
      "source": [
        "from iol.src.api.constants import Pais\n",
        "\n",
        "\n",
        "instrumentos = await client_iol.get_instrumentos(pais=Pais.ARG)\n",
        "instrumentos = pd.DataFrame(data=instrumentos)\n",
        "instrumentos"
      ]
    },
    {
      "cell_type": "markdown",
      "metadata": {},
      "source": [
        "# Panel general de un determinado instrumento\n"
      ]
    },
    {
      "cell_type": "code",
      "execution_count": null,
      "metadata": {},
      "outputs": [],
      "source": [
        "from iol.src.api.constants import Instrumento\n",
        "\n",
        "\n",
        "panel = await client_iol.get_paneles(pais=Pais.ARG, instrumento=Instrumento.ARG.BONOS)\n",
        "panel = pd.DataFrame(data=panel)\n",
        "panel"
      ]
    },
    {
      "cell_type": "markdown",
      "metadata": {},
      "source": [
        "# Titulos\n"
      ]
    },
    {
      "cell_type": "code",
      "execution_count": null,
      "metadata": {},
      "outputs": [],
      "source": [
        "titulo = await client_iol.get_titulo(simbolo=\"CUAP\", mercado=Mercado.BCBA)"
      ]
    },
    {
      "cell_type": "code",
      "execution_count": null,
      "metadata": {},
      "outputs": [],
      "source": [
        "titulo = pd.Series(data=titulo)\n",
        "titulo"
      ]
    },
    {
      "cell_type": "markdown",
      "metadata": {},
      "source": [
        "# Opciones de un titulo\n"
      ]
    },
    {
      "cell_type": "code",
      "execution_count": null,
      "metadata": {},
      "outputs": [],
      "source": [
        "opciones_titulo = await client_iol.get_titulo_opciones(\n",
        "    mercado=Mercado.BCBA, simbolo=\"GGAL\"\n",
        ")"
      ]
    },
    {
      "cell_type": "code",
      "execution_count": null,
      "metadata": {},
      "outputs": [],
      "source": [
        "opciones_titulo = pd.DataFrame(data=opciones_titulo)"
      ]
    },
    {
      "cell_type": "code",
      "execution_count": null,
      "metadata": {},
      "outputs": [],
      "source": [
        "cotizacion_opciones_titulo = opciones_titulo[\"cotizacion\"].apply(pd.Series)\n",
        "cotizacion_opciones_titulo = pd.DataFrame(data=cotizacion_opciones_titulo)"
      ]
    },
    {
      "cell_type": "code",
      "execution_count": null,
      "metadata": {},
      "outputs": [],
      "source": [
        "opciones_titulo = opciones_titulo.drop(columns=[\"cotizacion\"])\n",
        "opciones_titulo.head()"
      ]
    },
    {
      "cell_type": "code",
      "execution_count": null,
      "metadata": {},
      "outputs": [],
      "source": [
        "cotizacion_opciones_titulo.head()"
      ]
    },
    {
      "cell_type": "code",
      "execution_count": null,
      "metadata": {},
      "outputs": [],
      "source": [
        "cotizacion_opciones_titulo.shape, opciones_titulo.shape"
      ]
    },
    {
      "cell_type": "markdown",
      "metadata": {},
      "source": [
        "# Cotizacion de un titulo\n"
      ]
    },
    {
      "cell_type": "code",
      "execution_count": null,
      "metadata": {},
      "outputs": [],
      "source": [
        "cotizacion = await client_iol.get_titulo_cotizacion(\n",
        "    simbolo=\"GGAL\", mercado=Mercado.BCBA\n",
        ")"
      ]
    },
    {
      "cell_type": "code",
      "execution_count": null,
      "metadata": {},
      "outputs": [],
      "source": [
        "puntas_cotizacion = cotizacion[\"puntas\"]\n",
        "puntas_cotizacion = pd.DataFrame(data=puntas_cotizacion)"
      ]
    },
    {
      "cell_type": "code",
      "execution_count": null,
      "metadata": {},
      "outputs": [],
      "source": [
        "puntas_cotizacion"
      ]
    },
    {
      "cell_type": "code",
      "execution_count": null,
      "metadata": {},
      "outputs": [],
      "source": [
        "cotizacion = pd.DataFrame(data=cotizacion)\n",
        "cotizacion = cotizacion.drop(columns=[\"puntas\"])\n",
        "cotizacion"
      ]
    },
    {
      "cell_type": "markdown",
      "metadata": {},
      "source": [
        "# Panel de cotizaciones\n"
      ]
    },
    {
      "cell_type": "code",
      "execution_count": null,
      "metadata": {},
      "outputs": [],
      "source": [
        "from iol.src.api.constants import Panel\n",
        "\n",
        "\n",
        "panel_cotizaciones = await client_iol.get_panel_cotizaciones(\n",
        "    pais=Pais.ARG,\n",
        "    instrumento=Instrumento.ARG.BONOS,\n",
        "    panel=Panel.ARG.BONOS.SOBERANO_ARS_CER,\n",
        ")"
      ]
    },
    {
      "cell_type": "code",
      "execution_count": null,
      "metadata": {},
      "outputs": [],
      "source": [
        "titulos_panel_cotizaciones = panel_cotizaciones[\"titulos\"]"
      ]
    },
    {
      "cell_type": "code",
      "execution_count": null,
      "metadata": {},
      "outputs": [],
      "source": [
        "def flat_titulo(titulo):\n",
        "    return {\n",
        "        **titulo,\n",
        "        \"puntas\": None,\n",
        "        \"precioCompra\": titulo[\"puntas\"][\"precioCompra\"],\n",
        "        \"precioVenta\": titulo[\"puntas\"][\"precioVenta\"],\n",
        "        \"cantidadCompra\": titulo[\"puntas\"][\"cantidadCompra\"],\n",
        "        \"cantidadVenta\": titulo[\"puntas\"][\"cantidadVenta\"],\n",
        "    }"
      ]
    },
    {
      "cell_type": "code",
      "execution_count": null,
      "metadata": {},
      "outputs": [],
      "source": [
        "titulos_flated = [flat_titulo(titulo) for titulo in titulos_panel_cotizaciones]\n",
        "titulos_flated = pd.DataFrame(data=titulos_flated)\n",
        "titulos_flated = titulos_flated.drop(columns=[\"puntas\"])\n",
        "titulos_flated"
      ]
    }
  ],
  "metadata": {
    "kernelspec": {
      "display_name": "Python 3",
      "language": "python",
      "name": "python3"
    },
    "language_info": {
      "codemirror_mode": {
        "name": "ipython",
        "version": 3
      },
      "file_extension": ".py",
      "mimetype": "text/x-python",
      "name": "python",
      "nbconvert_exporter": "python",
      "pygments_lexer": "ipython3",
      "version": "3.11.4"
    },
    "orig_nbformat": 4
  },
  "nbformat": 4,
  "nbformat_minor": 2
}
