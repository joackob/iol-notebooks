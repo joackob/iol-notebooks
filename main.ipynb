{
  "cells": [
    {
      "cell_type": "markdown",
      "metadata": {},
      "source": [
        "# Instalación de dependencias\n"
      ]
    },
    {
      "cell_type": "code",
      "execution_count": null,
      "metadata": {},
      "outputs": [],
      "source": [
        "url_dependencies = \"https://github.com/joackob/iol_testing.git\"\n",
        "folder_dependencies = \"iol\""
      ]
    },
    {
      "cell_type": "markdown",
      "metadata": {},
      "source": [
        "Clonando repositorio con todas las dependendencias\n"
      ]
    },
    {
      "cell_type": "code",
      "execution_count": null,
      "metadata": {},
      "outputs": [],
      "source": [
        "import os\n",
        "\n",
        "if not os.path.exists(f\"./{folder_dependencies}/\"):\n",
        "    print(\"Cloning from github...\")\n",
        "    os.system(f\"git clone {url_dependencies} ./{folder_dependencies}/\")\n",
        "else:\n",
        "    print(\"Pulling from github...\")\n",
        "    os.system(f\"cd {folder_dependencies} && git pull\")"
      ]
    },
    {
      "cell_type": "markdown",
      "metadata": {},
      "source": [
        "Instalando dependencias\n"
      ]
    },
    {
      "cell_type": "code",
      "execution_count": null,
      "metadata": {},
      "outputs": [],
      "source": [
        "import sys\n",
        "\n",
        "pipenv_installed = os.system(\"pipenv --version\")\n",
        "if pipenv_installed:\n",
        "    print(\"Install with pipenv...\")\n",
        "    os.system(f\"pipenv install -r ./{folder_dependencies}/requirements.txt\")\n",
        "else:\n",
        "    print(\"Install with pip...\")\n",
        "    os.system(f\"pip install -r ./{folder_dependencies}/requirements.txt\")\n",
        "\n",
        "# for import from local\n",
        "print(\"Adding path...\")\n",
        "sys.path.append(f\"./{folder_dependencies}/\")\n",
        "os.getcwd()"
      ]
    },
    {
      "attachments": {},
      "cell_type": "markdown",
      "metadata": {},
      "source": [
        "# Bonos e Historialización\n"
      ]
    },
    {
      "cell_type": "code",
      "execution_count": null,
      "metadata": {},
      "outputs": [],
      "source": [
        "import iol.src.api.client as client\n",
        "import iol.src.api.constants as constants"
      ]
    },
    {
      "cell_type": "markdown",
      "metadata": {},
      "source": [
        "Se recomienda usar el archivo `.env` para colocar claves privadas, pero este espacio tambien puede ser usado como punto de entrada de datos privados. Tener la debida precaución.\n"
      ]
    },
    {
      "cell_type": "code",
      "execution_count": null,
      "metadata": {},
      "outputs": [],
      "source": [
        "user = os.getenv(\"IOL_USER\") or \"\"\n",
        "password = os.getenv(\"IOL_PASS\") or \"\""
      ]
    },
    {
      "cell_type": "code",
      "execution_count": null,
      "metadata": {},
      "outputs": [],
      "source": [
        "client_iol = client.IOLClient(username=user, password=password)"
      ]
    },
    {
      "cell_type": "markdown",
      "metadata": {},
      "source": [
        "## Historico anual de un determinado instrumento\n"
      ]
    },
    {
      "cell_type": "code",
      "execution_count": null,
      "metadata": {},
      "outputs": [],
      "source": [
        "from datetime import date\n",
        "from iol.src.api.constants import Ajustada\n",
        "\n",
        "hoy = date.today()\n",
        "hace_un_anio = hoy.replace(year=hoy.year - 1)\n",
        "historico = await client_iol.get_titulo_historicos(\n",
        "    simbolo=\"GGAL\",\n",
        "    mercado=constants.Mercado.BCBA,\n",
        "    fecha_desde=hace_un_anio,\n",
        "    fecha_hasta=hoy,\n",
        "    ajustada=Ajustada.AJUSTADA,\n",
        ")"
      ]
    },
    {
      "cell_type": "code",
      "execution_count": null,
      "metadata": {},
      "outputs": [],
      "source": [
        "import pandas as pd\n",
        "\n",
        "df = pd.DataFrame(data=historico)\n",
        "df.head()"
      ]
    },
    {
      "cell_type": "markdown",
      "metadata": {},
      "source": [
        "## Guardando los datos\n"
      ]
    },
    {
      "cell_type": "markdown",
      "metadata": {},
      "source": [
        "Exportamos datos a un excel\n"
      ]
    },
    {
      "cell_type": "code",
      "execution_count": null,
      "metadata": {},
      "outputs": [],
      "source": [
        "# df.to_excel(\"historico.xlsx\")"
      ]
    },
    {
      "cell_type": "markdown",
      "metadata": {},
      "source": [
        "Leer datos desde excel\n"
      ]
    },
    {
      "cell_type": "code",
      "execution_count": null,
      "metadata": {},
      "outputs": [],
      "source": [
        "# df = pd.read_excel(\"historico.xlsx\")"
      ]
    },
    {
      "cell_type": "markdown",
      "metadata": {},
      "source": [
        "## Analisis y visualización\n"
      ]
    },
    {
      "cell_type": "markdown",
      "metadata": {},
      "source": [
        "Primera vista de los datos\n"
      ]
    },
    {
      "cell_type": "code",
      "execution_count": null,
      "metadata": {},
      "outputs": [],
      "source": [
        "df.head()"
      ]
    },
    {
      "cell_type": "markdown",
      "metadata": {},
      "source": [
        "Cantidad de registros encontrados\n"
      ]
    },
    {
      "cell_type": "code",
      "execution_count": null,
      "metadata": {},
      "outputs": [],
      "source": [
        "df.size"
      ]
    },
    {
      "cell_type": "markdown",
      "metadata": {},
      "source": [
        "Graficando variables en función del tiempo\n"
      ]
    },
    {
      "cell_type": "code",
      "execution_count": null,
      "metadata": {},
      "outputs": [],
      "source": [
        "df.set_index(\"fechaHora\", inplace=True)\n",
        "df.head()"
      ]
    },
    {
      "cell_type": "code",
      "execution_count": null,
      "metadata": {},
      "outputs": [],
      "source": [
        "df.sort_index(inplace=True)"
      ]
    },
    {
      "cell_type": "code",
      "execution_count": null,
      "metadata": {},
      "outputs": [],
      "source": [
        "fig = df.plot.line(y=\"ultimoPrecio\", rot=0, figsize=(20, 10), grid=True)\n",
        "fig.set_xlabel(\"Fecha\")\n",
        "fig.set_ylabel(\"Precio(pesos argentinos)\")"
      ]
    }
  ],
  "metadata": {
    "kernelspec": {
      "display_name": "Python 3",
      "language": "python",
      "name": "python3"
    },
    "language_info": {
      "codemirror_mode": {
        "name": "ipython",
        "version": 3
      },
      "file_extension": ".py",
      "mimetype": "text/x-python",
      "name": "python",
      "nbconvert_exporter": "python",
      "pygments_lexer": "ipython3",
      "version": "3.11.4"
    },
    "orig_nbformat": 4
  },
  "nbformat": 4,
  "nbformat_minor": 2
}
