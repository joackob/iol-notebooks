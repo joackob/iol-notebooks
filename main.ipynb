{
  "cells": [
    {
      "cell_type": "markdown",
      "metadata": {},
      "source": [
        "# Instalación de dependencias\n"
      ]
    },
    {
      "attachments": {},
      "cell_type": "markdown",
      "metadata": {},
      "source": [
        "# Configuración de cuenta de usuario\n"
      ]
    },
    {
      "cell_type": "code",
      "execution_count": 1,
      "metadata": {},
      "outputs": [],
      "source": [
        "from iol_client import IOLClient"
      ]
    },
    {
      "cell_type": "markdown",
      "metadata": {},
      "source": [
        "Se recomienda usar el archivo `.env` para colocar claves privadas, pero este espacio tambien puede ser usado como punto de entrada de datos privados. Tener la debida precaución.\n"
      ]
    },
    {
      "cell_type": "code",
      "execution_count": 2,
      "metadata": {},
      "outputs": [],
      "source": [
        "import os\n",
        "\n",
        "user = os.getenv(\"IOL_USER\") or \"\"\n",
        "password = os.getenv(\"IOL_PASS\") or \"\""
      ]
    },
    {
      "cell_type": "code",
      "execution_count": 3,
      "metadata": {},
      "outputs": [],
      "source": [
        "client_iol = IOLClient(username=user, password=password)"
      ]
    },
    {
      "cell_type": "markdown",
      "metadata": {},
      "source": [
        "# Historico anual de un determinado instrumento\n"
      ]
    },
    {
      "cell_type": "code",
      "execution_count": 4,
      "metadata": {},
      "outputs": [],
      "source": [
        "from datetime import date\n",
        "from iol_client.constants import Ajustada, Mercado"
      ]
    },
    {
      "cell_type": "code",
      "execution_count": null,
      "metadata": {},
      "outputs": [],
      "source": [
        "hoy = date.today()\n",
        "hace_un_anio = hoy.replace(year=hoy.year - 1)\n",
        "historico = await client_iol.get_titulo_historicos(\n",
        "    simbolo=\"GGAL\",\n",
        "    mercado=Mercado.BCBA,\n",
        "    fecha_desde=hace_un_anio,\n",
        "    fecha_hasta=hoy,\n",
        "    ajustada=Ajustada.AJUSTADA,\n",
        ")"
      ]
    },
    {
      "cell_type": "code",
      "execution_count": 5,
      "metadata": {},
      "outputs": [],
      "source": [
        "import pandas as pd\n"
      ]
    },
    {
      "cell_type": "code",
      "execution_count": null,
      "metadata": {},
      "outputs": [],
      "source": [
        "\n",
        "df = pd.DataFrame(data=historico)\n",
        "df.head()"
      ]
    },
    {
      "cell_type": "markdown",
      "metadata": {},
      "source": [
        "## Guardando los datos\n"
      ]
    },
    {
      "cell_type": "markdown",
      "metadata": {},
      "source": [
        "Exportamos datos a un excel\n"
      ]
    },
    {
      "cell_type": "code",
      "execution_count": null,
      "metadata": {},
      "outputs": [],
      "source": [
        "# df.to_excel(\"historico.xlsx\")"
      ]
    },
    {
      "cell_type": "markdown",
      "metadata": {},
      "source": [
        "Leer datos desde excel\n"
      ]
    },
    {
      "cell_type": "code",
      "execution_count": null,
      "metadata": {},
      "outputs": [],
      "source": [
        "# df = pd.read_excel(\"historico.xlsx\")"
      ]
    },
    {
      "cell_type": "markdown",
      "metadata": {},
      "source": [
        "## Analisis y visualización\n"
      ]
    },
    {
      "cell_type": "markdown",
      "metadata": {},
      "source": [
        "Primera vista de los datos\n"
      ]
    },
    {
      "cell_type": "code",
      "execution_count": null,
      "metadata": {},
      "outputs": [],
      "source": [
        "df.head()"
      ]
    },
    {
      "cell_type": "markdown",
      "metadata": {},
      "source": [
        "Cantidad de registros encontrados\n"
      ]
    },
    {
      "cell_type": "code",
      "execution_count": null,
      "metadata": {},
      "outputs": [],
      "source": [
        "df.shape"
      ]
    },
    {
      "cell_type": "markdown",
      "metadata": {},
      "source": [
        "Graficando variables en función del tiempo\n"
      ]
    },
    {
      "cell_type": "code",
      "execution_count": null,
      "metadata": {},
      "outputs": [],
      "source": [
        "df.set_index(\"fechaHora\", inplace=True)\n",
        "df.head()"
      ]
    },
    {
      "cell_type": "code",
      "execution_count": null,
      "metadata": {},
      "outputs": [],
      "source": [
        "df.sort_index(inplace=True)"
      ]
    },
    {
      "cell_type": "code",
      "execution_count": null,
      "metadata": {},
      "outputs": [],
      "source": [
        "fig = df.plot.line(y=\"ultimoPrecio\", rot=0, figsize=(20, 10), grid=True)\n",
        "fig.set_xlabel(\"Fecha\")\n",
        "fig.set_ylabel(\"Precio(pesos argentinos)\")"
      ]
    },
    {
      "cell_type": "markdown",
      "metadata": {},
      "source": [
        "La realidad es que de los historicos, solo nos interesa el simbolo, la fecha, el valor de apertura, maximo y minimo alcanzado, cierre, volumen/monto y volumen nominal"
      ]
    },
    {
      "cell_type": "markdown",
      "metadata": {},
      "source": [
        "# Intrumentos\n"
      ]
    },
    {
      "cell_type": "code",
      "execution_count": null,
      "metadata": {},
      "outputs": [],
      "source": [
        "from iol_client.constants import Pais\n",
        "\n",
        "\n",
        "instrumentos = await client_iol.get_instrumentos(pais=Pais.ARG)\n",
        "instrumentos = pd.DataFrame(data=instrumentos)\n",
        "instrumentos"
      ]
    },
    {
      "cell_type": "markdown",
      "metadata": {},
      "source": [
        "# Panel general de un determinado instrumento\n"
      ]
    },
    {
      "cell_type": "code",
      "execution_count": null,
      "metadata": {},
      "outputs": [],
      "source": [
        "from iol_client.constants import Instrumento\n",
        "\n",
        "\n",
        "panel = await client_iol.get_paneles(pais=Pais.ARG, instrumento=Instrumento.ARG.BONOS)\n",
        "panel = pd.DataFrame(data=panel)\n",
        "panel"
      ]
    },
    {
      "cell_type": "markdown",
      "metadata": {},
      "source": [
        "# Titulos\n"
      ]
    },
    {
      "cell_type": "code",
      "execution_count": null,
      "metadata": {},
      "outputs": [],
      "source": [
        "titulo = await client_iol.get_titulo(simbolo=\"CUAP\", mercado=Mercado.BCBA)"
      ]
    },
    {
      "cell_type": "code",
      "execution_count": null,
      "metadata": {},
      "outputs": [],
      "source": [
        "titulo = pd.Series(data=titulo)\n",
        "titulo"
      ]
    },
    {
      "cell_type": "markdown",
      "metadata": {},
      "source": [
        "# Opciones de un titulo\n"
      ]
    },
    {
      "cell_type": "code",
      "execution_count": null,
      "metadata": {},
      "outputs": [],
      "source": [
        "opciones_titulo = await client_iol.get_titulo_opciones(\n",
        "    mercado=Mercado.BCBA, simbolo=\"GGAL\"\n",
        ")"
      ]
    },
    {
      "cell_type": "code",
      "execution_count": null,
      "metadata": {},
      "outputs": [],
      "source": [
        "opciones_titulo = pd.DataFrame(data=opciones_titulo)"
      ]
    },
    {
      "cell_type": "code",
      "execution_count": null,
      "metadata": {},
      "outputs": [],
      "source": [
        "cotizacion_opciones_titulo = opciones_titulo[\"cotizacion\"].apply(pd.Series)\n",
        "cotizacion_opciones_titulo = pd.DataFrame(data=cotizacion_opciones_titulo)"
      ]
    },
    {
      "cell_type": "code",
      "execution_count": null,
      "metadata": {},
      "outputs": [],
      "source": [
        "opciones_titulo = opciones_titulo.drop(columns=[\"cotizacion\"])\n",
        "opciones_titulo"
      ]
    },
    {
      "cell_type": "code",
      "execution_count": null,
      "metadata": {},
      "outputs": [],
      "source": [
        "cotizacion_opciones_titulo"
      ]
    },
    {
      "cell_type": "code",
      "execution_count": null,
      "metadata": {},
      "outputs": [],
      "source": [
        "cotizacion_opciones_titulo.shape, opciones_titulo.shape"
      ]
    },
    {
      "cell_type": "markdown",
      "metadata": {},
      "source": [
        "# Cotizacion de un titulo\n"
      ]
    },
    {
      "cell_type": "code",
      "execution_count": null,
      "metadata": {},
      "outputs": [],
      "source": [
        "cotizacion = await client_iol.get_titulo_cotizacion(\n",
        "    simbolo=\"GGAL\", mercado=Mercado.BCBA\n",
        ")"
      ]
    },
    {
      "cell_type": "code",
      "execution_count": null,
      "metadata": {},
      "outputs": [],
      "source": [
        "puntas_cotizacion = cotizacion[\"puntas\"]\n",
        "puntas_cotizacion = pd.DataFrame(data=puntas_cotizacion)"
      ]
    },
    {
      "cell_type": "code",
      "execution_count": null,
      "metadata": {},
      "outputs": [],
      "source": [
        "puntas_cotizacion"
      ]
    },
    {
      "cell_type": "code",
      "execution_count": null,
      "metadata": {},
      "outputs": [],
      "source": [
        "cotizacion = pd.Series(data=cotizacion)\n",
        "cotizacion = cotizacion.drop(labels=[\"puntas\"])\n",
        "cotizacion"
      ]
    },
    {
      "cell_type": "markdown",
      "metadata": {},
      "source": [
        "# Panel de cotizaciones\n"
      ]
    },
    {
      "cell_type": "code",
      "execution_count": null,
      "metadata": {},
      "outputs": [],
      "source": [
        "from iol_client.constants import Panel\n",
        "\n",
        "\n",
        "panel_cotizaciones = await client_iol.get_panel_cotizaciones(\n",
        "    pais=Pais.ARG,\n",
        "    instrumento=Instrumento.ARG.BONOS,\n",
        "    panel=Panel.ARG.BONOS.SOBERANO_ARS_CER,\n",
        ")"
      ]
    },
    {
      "cell_type": "code",
      "execution_count": null,
      "metadata": {},
      "outputs": [],
      "source": [
        "titulos_panel_cotizaciones = panel_cotizaciones[\"titulos\"]"
      ]
    },
    {
      "cell_type": "code",
      "execution_count": null,
      "metadata": {},
      "outputs": [],
      "source": [
        "def flat_titulo(titulo):\n",
        "    return {\n",
        "        **titulo,\n",
        "        \"puntas\": None,\n",
        "        \"precioCompra\": titulo[\"puntas\"][\"precioCompra\"],\n",
        "        \"precioVenta\": titulo[\"puntas\"][\"precioVenta\"],\n",
        "        \"cantidadCompra\": titulo[\"puntas\"][\"cantidadCompra\"],\n",
        "        \"cantidadVenta\": titulo[\"puntas\"][\"cantidadVenta\"],\n",
        "    }"
      ]
    },
    {
      "cell_type": "code",
      "execution_count": null,
      "metadata": {},
      "outputs": [],
      "source": [
        "titulos_flated = [flat_titulo(titulo) for titulo in titulos_panel_cotizaciones]\n",
        "titulos_flated = pd.DataFrame(data=titulos_flated)\n",
        "titulos_flated = titulos_flated.drop(columns=[\"puntas\"])\n",
        "titulos_flated"
      ]
    },
    {
      "cell_type": "markdown",
      "metadata": {},
      "source": [
        "# Detalle mobile de una cotizacion\n"
      ]
    },
    {
      "cell_type": "code",
      "execution_count": 6,
      "metadata": {},
      "outputs": [],
      "source": [
        "from iol_client.constants import Plazo\n"
      ]
    },
    {
      "cell_type": "code",
      "execution_count": null,
      "metadata": {},
      "outputs": [],
      "source": [
        "\n",
        "\n",
        "cotizacion_detalle_mobile = await client_iol.get_titulo_cotizacion_plazo(\n",
        "    mercado=Mercado.BCBA, simbolo=\"GGAL\", plazo=Plazo.T0\n",
        ")\n",
        "cotizacion_detalle_mobile"
      ]
    },
    {
      "cell_type": "code",
      "execution_count": null,
      "metadata": {},
      "outputs": [],
      "source": [
        "# get all keys of json\n",
        "keys = [key for key in cotizacion_detalle_mobile.keys()]\n",
        "keys"
      ]
    },
    {
      "cell_type": "code",
      "execution_count": null,
      "metadata": {},
      "outputs": [],
      "source": [
        "columns = [\n",
        "    \"operableCompra\",\n",
        "    \"operableVenta\",\n",
        "    \"visible\",\n",
        "    \"ultimoPrecio\",\n",
        "    \"variacion\",\n",
        "    \"apertura\",\n",
        "    \"maximo\",\n",
        "    \"minimo\",\n",
        "    \"fechaHora\",\n",
        "    \"tendencia\",\n",
        "    \"cierreAnterior\",\n",
        "    \"montoOperado\",\n",
        "    \"volumenNominal\",\n",
        "    \"precioPromedio\",\n",
        "    \"moneda\",\n",
        "    \"precioAjuste\",\n",
        "    \"interesesAbiertos\",\n",
        "    \"puntas\",\n",
        "    \"cantidadOperaciones\",\n",
        "    \"simbolo\",\n",
        "    \"pais\",\n",
        "    \"mercado\",\n",
        "    \"tipo\",\n",
        "    \"descripcionTitulo\",\n",
        "    \"plazo\",\n",
        "    \"laminaMinima\",\n",
        "    \"lote\",\n",
        "    \"cantidadMinima\",\n",
        "    \"puntosVariacion\",\n",
        "]"
      ]
    },
    {
      "cell_type": "code",
      "execution_count": null,
      "metadata": {},
      "outputs": [],
      "source": [
        "columns_without_puntas = [col for col in df.columns if \"punta\" not in col]"
      ]
    },
    {
      "cell_type": "code",
      "execution_count": null,
      "metadata": {},
      "outputs": [],
      "source": [
        "df_cotizaciones_sin_puntas = pd.Series(data=cotizacion_detalle_mobile)\n",
        "df_cotizaciones_sin_puntas"
      ]
    },
    {
      "cell_type": "code",
      "execution_count": null,
      "metadata": {},
      "outputs": [],
      "source": [
        "puntas = cotizacion_detalle_mobile[\"puntas\"]\n",
        "puntas"
      ]
    },
    {
      "cell_type": "code",
      "execution_count": null,
      "metadata": {},
      "outputs": [],
      "source": [
        "cotizaciones_flatted = [{\n",
        "    **cotizacion_detalle_mobile,\n",
        "    'puntas': None,\n",
        "    'cantidadCompra': punta['cantidadCompra'],\n",
        "    'precioCompra': punta['precioCompra'],\n",
        "    'precioVenta': punta['precioVenta'],\n",
        "    'cantidadVenta': punta['cantidadVenta'],\n",
        "} for punta in puntas ]\n",
        "\n",
        "df_cotizaciones_flatted = pd.DataFrame(cotizaciones_flatted)\n",
        "print(df_cotizaciones_flatted)"
      ]
    },
    {
      "cell_type": "code",
      "execution_count": null,
      "metadata": {},
      "outputs": [],
      "source": [
        "df_cotizaciones_flatted.columns"
      ]
    },
    {
      "cell_type": "code",
      "execution_count": null,
      "metadata": {},
      "outputs": [],
      "source": [
        "df_cotizaciones_flatted_out_puntas = df_cotizaciones_flatted.drop(columns=['puntas'])\n",
        "df_cotizaciones_flatted_out_puntas"
      ]
    },
    {
      "cell_type": "code",
      "execution_count": null,
      "metadata": {},
      "outputs": [],
      "source": [
        "df_cotizaciones_flatted_out_puntas.columns"
      ]
    },
    {
      "cell_type": "code",
      "execution_count": null,
      "metadata": {},
      "outputs": [],
      "source": [
        "array_cotizaciones = df_cotizaciones_flatted_out_puntas.to_records(index=False)\n",
        "array_cotizaciones"
      ]
    },
    {
      "cell_type": "code",
      "execution_count": null,
      "metadata": {},
      "outputs": [],
      "source": [
        "numpy_array_cotizaciones = df_cotizaciones_flatted_out_puntas.to_numpy().tolist()\n",
        "numpy_array_cotizaciones"
      ]
    },
    {
      "cell_type": "code",
      "execution_count": 7,
      "metadata": {},
      "outputs": [
        {
          "data": {
            "text/plain": [
              "{'operableCompra': True,\n",
              " 'operableVenta': False,\n",
              " 'visible': True,\n",
              " 'ultimoPrecio': 901.85,\n",
              " 'variacion': 0.0,\n",
              " 'apertura': 951.0,\n",
              " 'maximo': 958.2,\n",
              " 'minimo': 898.5,\n",
              " 'fechaHora': datetime.datetime(2023, 7, 28, 3, 0, 1, 377000),\n",
              " 'tendencia': 'mantiene',\n",
              " 'cierreAnterior': 901.85,\n",
              " 'montoOperado': 0.0,\n",
              " 'volumenNominal': 0,\n",
              " 'precioPromedio': 0.0,\n",
              " 'moneda': 'peso_Argentino',\n",
              " 'precioAjuste': 0.0,\n",
              " 'interesesAbiertos': 0.0,\n",
              " 'puntas': [],\n",
              " 'cantidadOperaciones': 0,\n",
              " 'simbolo': 'GGAL',\n",
              " 'pais': 'argentina',\n",
              " 'mercado': 'bcba',\n",
              " 'tipo': 'acciones',\n",
              " 'descripcionTitulo': 'Grupo Financiero Galicia S.A',\n",
              " 'plazo': 't1',\n",
              " 'laminaMinima': 1,\n",
              " 'lote': 1,\n",
              " 'cantidadMinima': 1,\n",
              " 'puntosVariacion': 0.0}"
            ]
          },
          "execution_count": 7,
          "metadata": {},
          "output_type": "execute_result"
        }
      ],
      "source": [
        "\n",
        "cotizacion_detalle_mobile_t1 = await client_iol.get_titulo_cotizacion_plazo(\n",
        "    mercado=Mercado.BCBA, simbolo=\"GGAL\", plazo=Plazo.T1\n",
        ")\n",
        "cotizacion_detalle_mobile_t1"
      ]
    }
  ],
  "metadata": {
    "kernelspec": {
      "display_name": "Python 3",
      "language": "python",
      "name": "python3"
    },
    "language_info": {
      "codemirror_mode": {
        "name": "ipython",
        "version": 3
      },
      "file_extension": ".py",
      "mimetype": "text/x-python",
      "name": "python",
      "nbconvert_exporter": "python",
      "pygments_lexer": "ipython3",
      "version": "3.11.4"
    },
    "orig_nbformat": 4
  },
  "nbformat": 4,
  "nbformat_minor": 2
}
